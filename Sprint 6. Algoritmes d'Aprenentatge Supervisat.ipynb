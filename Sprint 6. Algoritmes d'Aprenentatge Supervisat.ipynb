{
 "cells": [
  {
   "cell_type": "markdown",
   "id": "c9196688",
   "metadata": {},
   "source": [
    "# Exercici 1"
   ]
  },
  {
   "cell_type": "markdown",
   "id": "74fc4163",
   "metadata": {},
   "source": [
    "Crea almenys dos models de regressió diferents per intentar predir el millor possible el preu de les vivendes (MEDV) de l'arxiu adjunt."
   ]
  },
  {
   "cell_type": "markdown",
   "id": "2d9c9172",
   "metadata": {},
   "source": [
    "En primer lloc carregarem el nostre dataframe."
   ]
  },
  {
   "cell_type": "code",
   "execution_count": 2,
   "id": "ee586795",
   "metadata": {},
   "outputs": [
    {
     "data": {
      "text/html": [
       "<div>\n",
       "<style scoped>\n",
       "    .dataframe tbody tr th:only-of-type {\n",
       "        vertical-align: middle;\n",
       "    }\n",
       "\n",
       "    .dataframe tbody tr th {\n",
       "        vertical-align: top;\n",
       "    }\n",
       "\n",
       "    .dataframe thead th {\n",
       "        text-align: right;\n",
       "    }\n",
       "</style>\n",
       "<table border=\"1\" class=\"dataframe\">\n",
       "  <thead>\n",
       "    <tr style=\"text-align: right;\">\n",
       "      <th></th>\n",
       "      <th>0.00632</th>\n",
       "      <th>18.00</th>\n",
       "      <th>2.310</th>\n",
       "      <th>0</th>\n",
       "      <th>0.5380</th>\n",
       "      <th>6.5750</th>\n",
       "      <th>65.20</th>\n",
       "      <th>4.0900</th>\n",
       "      <th>1</th>\n",
       "      <th>296.0</th>\n",
       "      <th>15.30</th>\n",
       "      <th>396.90</th>\n",
       "      <th>4.98</th>\n",
       "      <th>24.00</th>\n",
       "    </tr>\n",
       "  </thead>\n",
       "  <tbody>\n",
       "    <tr>\n",
       "      <th>0</th>\n",
       "      <td>0.02731</td>\n",
       "      <td>0.0</td>\n",
       "      <td>7.07</td>\n",
       "      <td>0</td>\n",
       "      <td>0.469</td>\n",
       "      <td>6.421</td>\n",
       "      <td>78.9</td>\n",
       "      <td>4.9671</td>\n",
       "      <td>2</td>\n",
       "      <td>242.0</td>\n",
       "      <td>17.8</td>\n",
       "      <td>396.90</td>\n",
       "      <td>9.14</td>\n",
       "      <td>21.6</td>\n",
       "    </tr>\n",
       "    <tr>\n",
       "      <th>1</th>\n",
       "      <td>0.02729</td>\n",
       "      <td>0.0</td>\n",
       "      <td>7.07</td>\n",
       "      <td>0</td>\n",
       "      <td>0.469</td>\n",
       "      <td>7.185</td>\n",
       "      <td>61.1</td>\n",
       "      <td>4.9671</td>\n",
       "      <td>2</td>\n",
       "      <td>242.0</td>\n",
       "      <td>17.8</td>\n",
       "      <td>392.83</td>\n",
       "      <td>4.03</td>\n",
       "      <td>34.7</td>\n",
       "    </tr>\n",
       "    <tr>\n",
       "      <th>2</th>\n",
       "      <td>0.03237</td>\n",
       "      <td>0.0</td>\n",
       "      <td>2.18</td>\n",
       "      <td>0</td>\n",
       "      <td>0.458</td>\n",
       "      <td>6.998</td>\n",
       "      <td>45.8</td>\n",
       "      <td>6.0622</td>\n",
       "      <td>3</td>\n",
       "      <td>222.0</td>\n",
       "      <td>18.7</td>\n",
       "      <td>394.63</td>\n",
       "      <td>2.94</td>\n",
       "      <td>33.4</td>\n",
       "    </tr>\n",
       "    <tr>\n",
       "      <th>3</th>\n",
       "      <td>0.06905</td>\n",
       "      <td>0.0</td>\n",
       "      <td>2.18</td>\n",
       "      <td>0</td>\n",
       "      <td>0.458</td>\n",
       "      <td>7.147</td>\n",
       "      <td>54.2</td>\n",
       "      <td>6.0622</td>\n",
       "      <td>3</td>\n",
       "      <td>222.0</td>\n",
       "      <td>18.7</td>\n",
       "      <td>396.90</td>\n",
       "      <td>5.33</td>\n",
       "      <td>36.2</td>\n",
       "    </tr>\n",
       "    <tr>\n",
       "      <th>4</th>\n",
       "      <td>0.02985</td>\n",
       "      <td>0.0</td>\n",
       "      <td>2.18</td>\n",
       "      <td>0</td>\n",
       "      <td>0.458</td>\n",
       "      <td>6.430</td>\n",
       "      <td>58.7</td>\n",
       "      <td>6.0622</td>\n",
       "      <td>3</td>\n",
       "      <td>222.0</td>\n",
       "      <td>18.7</td>\n",
       "      <td>394.12</td>\n",
       "      <td>5.21</td>\n",
       "      <td>28.7</td>\n",
       "    </tr>\n",
       "  </tbody>\n",
       "</table>\n",
       "</div>"
      ],
      "text/plain": [
       "   0.00632  18.00  2.310  0  0.5380  6.5750  65.20  4.0900  1  296.0  15.30  \\\n",
       "0  0.02731    0.0   7.07  0   0.469   6.421   78.9  4.9671  2  242.0   17.8   \n",
       "1  0.02729    0.0   7.07  0   0.469   7.185   61.1  4.9671  2  242.0   17.8   \n",
       "2  0.03237    0.0   2.18  0   0.458   6.998   45.8  6.0622  3  222.0   18.7   \n",
       "3  0.06905    0.0   2.18  0   0.458   7.147   54.2  6.0622  3  222.0   18.7   \n",
       "4  0.02985    0.0   2.18  0   0.458   6.430   58.7  6.0622  3  222.0   18.7   \n",
       "\n",
       "   396.90  4.98  24.00  \n",
       "0  396.90  9.14   21.6  \n",
       "1  392.83  4.03   34.7  \n",
       "2  394.63  2.94   33.4  \n",
       "3  396.90  5.33   36.2  \n",
       "4  394.12  5.21   28.7  "
      ]
     },
     "execution_count": 2,
     "metadata": {},
     "output_type": "execute_result"
    }
   ],
   "source": [
    "import pandas as pd # Importem la llibreria Pandas\n",
    "\n",
    "df = pd.read_csv('housing data.csv') # Carreguem el dataframe\n",
    "df.head() # Mostrem els primers resultats\n"
   ]
  },
  {
   "cell_type": "markdown",
   "id": "5bbf6e70",
   "metadata": {},
   "source": [
    "Com podem veure, no tenim encapçalament. L'afegirem a partir de la informació que tenim al document 'housing data description'"
   ]
  },
  {
   "cell_type": "code",
   "execution_count": 3,
   "id": "ec80c77d",
   "metadata": {},
   "outputs": [
    {
     "data": {
      "text/html": [
       "<div>\n",
       "<style scoped>\n",
       "    .dataframe tbody tr th:only-of-type {\n",
       "        vertical-align: middle;\n",
       "    }\n",
       "\n",
       "    .dataframe tbody tr th {\n",
       "        vertical-align: top;\n",
       "    }\n",
       "\n",
       "    .dataframe thead th {\n",
       "        text-align: right;\n",
       "    }\n",
       "</style>\n",
       "<table border=\"1\" class=\"dataframe\">\n",
       "  <thead>\n",
       "    <tr style=\"text-align: right;\">\n",
       "      <th></th>\n",
       "      <th>CRIM</th>\n",
       "      <th>ZN</th>\n",
       "      <th>INDUS</th>\n",
       "      <th>CHAS</th>\n",
       "      <th>NOX</th>\n",
       "      <th>RM</th>\n",
       "      <th>AGE</th>\n",
       "      <th>DIS</th>\n",
       "      <th>RAD</th>\n",
       "      <th>TAX</th>\n",
       "      <th>PTRATIO</th>\n",
       "      <th>B</th>\n",
       "      <th>LSTAT</th>\n",
       "      <th>MEDV</th>\n",
       "    </tr>\n",
       "  </thead>\n",
       "  <tbody>\n",
       "    <tr>\n",
       "      <th>0</th>\n",
       "      <td>0.00632</td>\n",
       "      <td>18.0</td>\n",
       "      <td>2.31</td>\n",
       "      <td>0</td>\n",
       "      <td>0.538</td>\n",
       "      <td>6.575</td>\n",
       "      <td>65.2</td>\n",
       "      <td>4.0900</td>\n",
       "      <td>1</td>\n",
       "      <td>296.0</td>\n",
       "      <td>15.3</td>\n",
       "      <td>396.90</td>\n",
       "      <td>4.98</td>\n",
       "      <td>24.0</td>\n",
       "    </tr>\n",
       "    <tr>\n",
       "      <th>1</th>\n",
       "      <td>0.02731</td>\n",
       "      <td>0.0</td>\n",
       "      <td>7.07</td>\n",
       "      <td>0</td>\n",
       "      <td>0.469</td>\n",
       "      <td>6.421</td>\n",
       "      <td>78.9</td>\n",
       "      <td>4.9671</td>\n",
       "      <td>2</td>\n",
       "      <td>242.0</td>\n",
       "      <td>17.8</td>\n",
       "      <td>396.90</td>\n",
       "      <td>9.14</td>\n",
       "      <td>21.6</td>\n",
       "    </tr>\n",
       "    <tr>\n",
       "      <th>2</th>\n",
       "      <td>0.02729</td>\n",
       "      <td>0.0</td>\n",
       "      <td>7.07</td>\n",
       "      <td>0</td>\n",
       "      <td>0.469</td>\n",
       "      <td>7.185</td>\n",
       "      <td>61.1</td>\n",
       "      <td>4.9671</td>\n",
       "      <td>2</td>\n",
       "      <td>242.0</td>\n",
       "      <td>17.8</td>\n",
       "      <td>392.83</td>\n",
       "      <td>4.03</td>\n",
       "      <td>34.7</td>\n",
       "    </tr>\n",
       "    <tr>\n",
       "      <th>3</th>\n",
       "      <td>0.03237</td>\n",
       "      <td>0.0</td>\n",
       "      <td>2.18</td>\n",
       "      <td>0</td>\n",
       "      <td>0.458</td>\n",
       "      <td>6.998</td>\n",
       "      <td>45.8</td>\n",
       "      <td>6.0622</td>\n",
       "      <td>3</td>\n",
       "      <td>222.0</td>\n",
       "      <td>18.7</td>\n",
       "      <td>394.63</td>\n",
       "      <td>2.94</td>\n",
       "      <td>33.4</td>\n",
       "    </tr>\n",
       "    <tr>\n",
       "      <th>4</th>\n",
       "      <td>0.06905</td>\n",
       "      <td>0.0</td>\n",
       "      <td>2.18</td>\n",
       "      <td>0</td>\n",
       "      <td>0.458</td>\n",
       "      <td>7.147</td>\n",
       "      <td>54.2</td>\n",
       "      <td>6.0622</td>\n",
       "      <td>3</td>\n",
       "      <td>222.0</td>\n",
       "      <td>18.7</td>\n",
       "      <td>396.90</td>\n",
       "      <td>5.33</td>\n",
       "      <td>36.2</td>\n",
       "    </tr>\n",
       "  </tbody>\n",
       "</table>\n",
       "</div>"
      ],
      "text/plain": [
       "      CRIM    ZN  INDUS  CHAS    NOX     RM   AGE     DIS  RAD    TAX  \\\n",
       "0  0.00632  18.0   2.31     0  0.538  6.575  65.2  4.0900    1  296.0   \n",
       "1  0.02731   0.0   7.07     0  0.469  6.421  78.9  4.9671    2  242.0   \n",
       "2  0.02729   0.0   7.07     0  0.469  7.185  61.1  4.9671    2  242.0   \n",
       "3  0.03237   0.0   2.18     0  0.458  6.998  45.8  6.0622    3  222.0   \n",
       "4  0.06905   0.0   2.18     0  0.458  7.147  54.2  6.0622    3  222.0   \n",
       "\n",
       "   PTRATIO       B  LSTAT  MEDV  \n",
       "0     15.3  396.90   4.98  24.0  \n",
       "1     17.8  396.90   9.14  21.6  \n",
       "2     17.8  392.83   4.03  34.7  \n",
       "3     18.7  394.63   2.94  33.4  \n",
       "4     18.7  396.90   5.33  36.2  "
      ]
     },
     "execution_count": 3,
     "metadata": {},
     "output_type": "execute_result"
    }
   ],
   "source": [
    "# Creem una llista amb els noms de les columnes\n",
    "noms_columnes = [\"CRIM\", \"ZN\", \"INDUS\", \"CHAS\", \"NOX\", \"RM\", \"AGE\", \"DIS\", \"RAD\", \"TAX\", \"PTRATIO\", \"B\", \"LSTAT\", \"MEDV\"]\n",
    "\n",
    "# Afegim l'encapçalament amb el nom de les columnes al dataframe\n",
    "df_housing = pd.read_csv('housing data.csv', header=None, names=noms_columnes)\n",
    "\n",
    "# Mostrem el dataframe\n",
    "df_housing.head()"
   ]
  },
  {
   "cell_type": "markdown",
   "id": "d01cb2ff",
   "metadata": {},
   "source": [
    "Afegim la informació proporcionada que descriu les variables:\n",
    "\n",
    "   1. CRIM      taxa de delicte per càpita per municipi\n",
    "   2. ZN        proporció de sòl residencial zonificat per a lots de més de 25.000 peus quadrats.\n",
    "   3. INDUS     proporció d'hectàrees de negocis no minoristes per municipi\n",
    "   4. CHAS      variable dummy Charles River (= 1 si la parcel·la toca el riu; 0 en cas contrari)\n",
    "   5. NOX       concentració d'òxids nitrosos (parts per 10 milions)\n",
    "   6. RM        nombre mitjà d'habitacions per habitatge \n",
    "   7. AGE       proporció d'unitats ocupades pel propietari construïdes abans de 1940\n",
    "   8. DIS       distàncies ponderades a 5 oficines d'ocupació de Boston\n",
    "   9. RAD       índex d'accessibilitat a carreteres radials\n",
    "   10. TAX      taxa d'impost sobre béns immobles per cada $10.000\n",
    "   11. PTRATIO  ràtio alumne-mestre per municipi\n",
    "   12. B        1000(Bk - 0,63)^2 on Bk és la proporció de negres per municipi.\n",
    "   13. LSTAT    % de la població de baix estatus.\n",
    "   14. MEDV     Valor mitjà de les llars ocupades pels propietaris en milers de dòlars."
   ]
  },
  {
   "cell_type": "markdown",
   "id": "9bc164c3",
   "metadata": {},
   "source": [
    "Per aquest tipus conjunt de dades, podem utilitzar diversos models de regressió per predir el valor mitjà de les cases (MEDV) en funció dels altres atributs. Per exemple, el model de Regressió Líneal Múltiple, els Arbres de Decisió i Random Forest, el Gradient Boosting, Regressió Ridge i Lasso, Regressió de Suport Vectorial, fins i tot les Xarxes Neuronals.\n",
    "\n",
    "El model de Regressió Lineal Múltiple ens pot ajudar a predir el valor de la casa en funció de múltiples variables independents. \n",
    "Pel que fa als Arbres de Decisió i el Random Forest, ens poden ajudar a trobar relacions no lineals i interaccions entre les característiques. Amb el Gradient Boosting podem trobar millors resultats en comparació amb el Random Forest. Pel que fa als models de Regressió Ridge i Lasso, ens poden ajudar a prevenir el sobreajustament (overfitting) pel fet que apliquen tècniques de regularització si hi ha moltes característiques en el conjunt de dades. El model de Regressió de Suport Vectorial (SVR) ens pot ajudar a capturar relacions ni lineals en les nostres dades. Finalment, les Xarxes Neuronals es podrien aplicar per modelar relacions complexes entre les variables, encara que el nostre conjunt de dades no és gaire gran i és bastant específic.\n",
    "\n",
    "Abans d'aplicar algun d'aquests models, ens caldrà fer un anàlisi exploratòria de les dades (distribució, outliers, correlacions) i fer un preprocessament (si cal estandarització, veure si hi ha valors faltants i crear característiques derivades d'altres). Un cop aplicat el model, caldrà fer una validació creuada (cross-validation) per avaluar l'eficàcia de cada model i evitar el sobreajustament. Posteriorment, farem una avaluació del model utilitzant mètriques com l'MSE (Error Quadràtic Mitjà), la desviació mitjana (RMSE) o l'error mitjà (MAE). Finalment, seleccionarem el model segons el seu rendiment durant la validació creuada i l'avaluació en el conjunt de dades de prova.\n",
    "\n",
    "Entre els diferents models descrits, decidim aplicar el model de Regressió Lineal Múltiple, el Random Forest i el Gradient Boosting."
   ]
  },
  {
   "cell_type": "markdown",
   "id": "b7f97939",
   "metadata": {},
   "source": [
    "Anem a veure el tipus de dades i si n'hi ha de faltants:"
   ]
  },
  {
   "cell_type": "code",
   "execution_count": 4,
   "id": "990cc80e",
   "metadata": {},
   "outputs": [
    {
     "name": "stdout",
     "output_type": "stream",
     "text": [
      "<class 'pandas.core.frame.DataFrame'>\n",
      "RangeIndex: 506 entries, 0 to 505\n",
      "Data columns (total 14 columns):\n",
      " #   Column   Non-Null Count  Dtype  \n",
      "---  ------   --------------  -----  \n",
      " 0   CRIM     506 non-null    float64\n",
      " 1   ZN       506 non-null    float64\n",
      " 2   INDUS    506 non-null    float64\n",
      " 3   CHAS     506 non-null    int64  \n",
      " 4   NOX      506 non-null    float64\n",
      " 5   RM       506 non-null    float64\n",
      " 6   AGE      506 non-null    float64\n",
      " 7   DIS      506 non-null    float64\n",
      " 8   RAD      506 non-null    int64  \n",
      " 9   TAX      506 non-null    float64\n",
      " 10  PTRATIO  506 non-null    float64\n",
      " 11  B        506 non-null    float64\n",
      " 12  LSTAT    506 non-null    float64\n",
      " 13  MEDV     506 non-null    float64\n",
      "dtypes: float64(12), int64(2)\n",
      "memory usage: 55.5 KB\n"
     ]
    }
   ],
   "source": [
    "df_housing.info()"
   ]
  },
  {
   "cell_type": "markdown",
   "id": "24fd4cd3",
   "metadata": {},
   "source": [
    "Com podem veure, tenim un total de 506 registres i no hi ha dades faltants en cap de les 14 variables. Pel que fa al tipus de dades, totes les variables són numèriques. La variables 'CHAS' i 'RAD' són nombres enters (int64) i la resta són nombres decimals (float64)."
   ]
  },
  {
   "cell_type": "code",
   "execution_count": 5,
   "id": "fea196b9",
   "metadata": {
    "scrolled": false
   },
   "outputs": [
    {
     "data": {
      "text/html": [
       "<div>\n",
       "<style scoped>\n",
       "    .dataframe tbody tr th:only-of-type {\n",
       "        vertical-align: middle;\n",
       "    }\n",
       "\n",
       "    .dataframe tbody tr th {\n",
       "        vertical-align: top;\n",
       "    }\n",
       "\n",
       "    .dataframe thead th {\n",
       "        text-align: right;\n",
       "    }\n",
       "</style>\n",
       "<table border=\"1\" class=\"dataframe\">\n",
       "  <thead>\n",
       "    <tr style=\"text-align: right;\">\n",
       "      <th></th>\n",
       "      <th>CRIM</th>\n",
       "      <th>ZN</th>\n",
       "      <th>INDUS</th>\n",
       "      <th>CHAS</th>\n",
       "      <th>NOX</th>\n",
       "      <th>RM</th>\n",
       "      <th>AGE</th>\n",
       "      <th>DIS</th>\n",
       "      <th>RAD</th>\n",
       "      <th>TAX</th>\n",
       "      <th>PTRATIO</th>\n",
       "      <th>B</th>\n",
       "      <th>LSTAT</th>\n",
       "      <th>MEDV</th>\n",
       "    </tr>\n",
       "  </thead>\n",
       "  <tbody>\n",
       "    <tr>\n",
       "      <th>count</th>\n",
       "      <td>506.000000</td>\n",
       "      <td>506.000000</td>\n",
       "      <td>506.000000</td>\n",
       "      <td>506.000000</td>\n",
       "      <td>506.000000</td>\n",
       "      <td>506.000000</td>\n",
       "      <td>506.000000</td>\n",
       "      <td>506.000000</td>\n",
       "      <td>506.000000</td>\n",
       "      <td>506.000000</td>\n",
       "      <td>506.000000</td>\n",
       "      <td>506.000000</td>\n",
       "      <td>506.000000</td>\n",
       "      <td>506.000000</td>\n",
       "    </tr>\n",
       "    <tr>\n",
       "      <th>mean</th>\n",
       "      <td>3.613524</td>\n",
       "      <td>11.363636</td>\n",
       "      <td>11.136779</td>\n",
       "      <td>0.069170</td>\n",
       "      <td>0.554695</td>\n",
       "      <td>6.284634</td>\n",
       "      <td>68.574901</td>\n",
       "      <td>3.795043</td>\n",
       "      <td>9.549407</td>\n",
       "      <td>408.237154</td>\n",
       "      <td>18.455534</td>\n",
       "      <td>356.674032</td>\n",
       "      <td>12.653063</td>\n",
       "      <td>22.532806</td>\n",
       "    </tr>\n",
       "    <tr>\n",
       "      <th>std</th>\n",
       "      <td>8.601545</td>\n",
       "      <td>23.322453</td>\n",
       "      <td>6.860353</td>\n",
       "      <td>0.253994</td>\n",
       "      <td>0.115878</td>\n",
       "      <td>0.702617</td>\n",
       "      <td>28.148861</td>\n",
       "      <td>2.105710</td>\n",
       "      <td>8.707259</td>\n",
       "      <td>168.537116</td>\n",
       "      <td>2.164946</td>\n",
       "      <td>91.294864</td>\n",
       "      <td>7.141062</td>\n",
       "      <td>9.197104</td>\n",
       "    </tr>\n",
       "    <tr>\n",
       "      <th>min</th>\n",
       "      <td>0.006320</td>\n",
       "      <td>0.000000</td>\n",
       "      <td>0.460000</td>\n",
       "      <td>0.000000</td>\n",
       "      <td>0.385000</td>\n",
       "      <td>3.561000</td>\n",
       "      <td>2.900000</td>\n",
       "      <td>1.129600</td>\n",
       "      <td>1.000000</td>\n",
       "      <td>187.000000</td>\n",
       "      <td>12.600000</td>\n",
       "      <td>0.320000</td>\n",
       "      <td>1.730000</td>\n",
       "      <td>5.000000</td>\n",
       "    </tr>\n",
       "    <tr>\n",
       "      <th>25%</th>\n",
       "      <td>0.082045</td>\n",
       "      <td>0.000000</td>\n",
       "      <td>5.190000</td>\n",
       "      <td>0.000000</td>\n",
       "      <td>0.449000</td>\n",
       "      <td>5.885500</td>\n",
       "      <td>45.025000</td>\n",
       "      <td>2.100175</td>\n",
       "      <td>4.000000</td>\n",
       "      <td>279.000000</td>\n",
       "      <td>17.400000</td>\n",
       "      <td>375.377500</td>\n",
       "      <td>6.950000</td>\n",
       "      <td>17.025000</td>\n",
       "    </tr>\n",
       "    <tr>\n",
       "      <th>50%</th>\n",
       "      <td>0.256510</td>\n",
       "      <td>0.000000</td>\n",
       "      <td>9.690000</td>\n",
       "      <td>0.000000</td>\n",
       "      <td>0.538000</td>\n",
       "      <td>6.208500</td>\n",
       "      <td>77.500000</td>\n",
       "      <td>3.207450</td>\n",
       "      <td>5.000000</td>\n",
       "      <td>330.000000</td>\n",
       "      <td>19.050000</td>\n",
       "      <td>391.440000</td>\n",
       "      <td>11.360000</td>\n",
       "      <td>21.200000</td>\n",
       "    </tr>\n",
       "    <tr>\n",
       "      <th>75%</th>\n",
       "      <td>3.677083</td>\n",
       "      <td>12.500000</td>\n",
       "      <td>18.100000</td>\n",
       "      <td>0.000000</td>\n",
       "      <td>0.624000</td>\n",
       "      <td>6.623500</td>\n",
       "      <td>94.075000</td>\n",
       "      <td>5.188425</td>\n",
       "      <td>24.000000</td>\n",
       "      <td>666.000000</td>\n",
       "      <td>20.200000</td>\n",
       "      <td>396.225000</td>\n",
       "      <td>16.955000</td>\n",
       "      <td>25.000000</td>\n",
       "    </tr>\n",
       "    <tr>\n",
       "      <th>max</th>\n",
       "      <td>88.976200</td>\n",
       "      <td>100.000000</td>\n",
       "      <td>27.740000</td>\n",
       "      <td>1.000000</td>\n",
       "      <td>0.871000</td>\n",
       "      <td>8.780000</td>\n",
       "      <td>100.000000</td>\n",
       "      <td>12.126500</td>\n",
       "      <td>24.000000</td>\n",
       "      <td>711.000000</td>\n",
       "      <td>22.000000</td>\n",
       "      <td>396.900000</td>\n",
       "      <td>37.970000</td>\n",
       "      <td>50.000000</td>\n",
       "    </tr>\n",
       "  </tbody>\n",
       "</table>\n",
       "</div>"
      ],
      "text/plain": [
       "             CRIM          ZN       INDUS        CHAS         NOX          RM  \\\n",
       "count  506.000000  506.000000  506.000000  506.000000  506.000000  506.000000   \n",
       "mean     3.613524   11.363636   11.136779    0.069170    0.554695    6.284634   \n",
       "std      8.601545   23.322453    6.860353    0.253994    0.115878    0.702617   \n",
       "min      0.006320    0.000000    0.460000    0.000000    0.385000    3.561000   \n",
       "25%      0.082045    0.000000    5.190000    0.000000    0.449000    5.885500   \n",
       "50%      0.256510    0.000000    9.690000    0.000000    0.538000    6.208500   \n",
       "75%      3.677083   12.500000   18.100000    0.000000    0.624000    6.623500   \n",
       "max     88.976200  100.000000   27.740000    1.000000    0.871000    8.780000   \n",
       "\n",
       "              AGE         DIS         RAD         TAX     PTRATIO           B  \\\n",
       "count  506.000000  506.000000  506.000000  506.000000  506.000000  506.000000   \n",
       "mean    68.574901    3.795043    9.549407  408.237154   18.455534  356.674032   \n",
       "std     28.148861    2.105710    8.707259  168.537116    2.164946   91.294864   \n",
       "min      2.900000    1.129600    1.000000  187.000000   12.600000    0.320000   \n",
       "25%     45.025000    2.100175    4.000000  279.000000   17.400000  375.377500   \n",
       "50%     77.500000    3.207450    5.000000  330.000000   19.050000  391.440000   \n",
       "75%     94.075000    5.188425   24.000000  666.000000   20.200000  396.225000   \n",
       "max    100.000000   12.126500   24.000000  711.000000   22.000000  396.900000   \n",
       "\n",
       "            LSTAT        MEDV  \n",
       "count  506.000000  506.000000  \n",
       "mean    12.653063   22.532806  \n",
       "std      7.141062    9.197104  \n",
       "min      1.730000    5.000000  \n",
       "25%      6.950000   17.025000  \n",
       "50%     11.360000   21.200000  \n",
       "75%     16.955000   25.000000  \n",
       "max     37.970000   50.000000  "
      ]
     },
     "execution_count": 5,
     "metadata": {},
     "output_type": "execute_result"
    }
   ],
   "source": [
    "# En primer lloc farem un anàlisi estadístic de les dades\n",
    "\n",
    "df_housing.describe()"
   ]
  },
  {
   "cell_type": "markdown",
   "id": "f0613d53",
   "metadata": {},
   "source": [
    "Com que moltes de les variables no segueixen una distribució normal, detectarem els outliers a partir del Isolation Forest, un algoritme de detecció d'anomalies que no requereix una distribució normal de les dades."
   ]
  },
  {
   "cell_type": "code",
   "execution_count": 6,
   "id": "87838052",
   "metadata": {},
   "outputs": [
    {
     "name": "stdout",
     "output_type": "stream",
     "text": [
      "         CRIM    ZN  INDUS  CHAS    NOX     RM    AGE     DIS  RAD    TAX  \\\n",
      "155   3.53501   0.0  19.58     1  0.871  6.152   82.6  1.7455    5  403.0   \n",
      "283   0.01501  90.0   1.21     1  0.401  7.923   24.8  5.8850    1  198.0   \n",
      "369   5.66998   0.0  18.10     1  0.631  6.683   96.8  1.3567   24  666.0   \n",
      "370   6.53876   0.0  18.10     1  0.631  7.016   97.5  1.2024   24  666.0   \n",
      "372   8.26725   0.0  18.10     1  0.668  5.875   89.6  1.1296   24  666.0   \n",
      "414  45.74610   0.0  18.10     0  0.693  4.519  100.0  1.6582   24  666.0   \n",
      "\n",
      "     PTRATIO       B  LSTAT  MEDV  outlier  \n",
      "155     14.7   88.01  15.02  15.6       -1  \n",
      "283     13.6  395.52   3.16  50.0       -1  \n",
      "369     20.2  375.33   3.73  50.0       -1  \n",
      "370     20.2  392.05   2.96  50.0       -1  \n",
      "372     20.2  347.88   8.88  50.0       -1  \n",
      "414     20.2   88.27  36.98   7.0       -1  \n"
     ]
    }
   ],
   "source": [
    "from sklearn.ensemble import IsolationForest\n",
    "from sklearn.preprocessing import StandardScaler\n",
    "import pandas as pd\n",
    "\n",
    "# Escalarem les dades abans d'aplicar Isolation Forest\n",
    "scaler = StandardScaler()\n",
    "scaled_data = scaler.fit_transform(df_housing)\n",
    "\n",
    "# Instanciem Isolation Forest\n",
    "iso = IsolationForest(n_estimators=100, contamination=0.01, random_state=42)\n",
    "\n",
    "# Ajustem les dades escalades\n",
    "iso.fit(scaled_data)\n",
    "\n",
    "# Obtenim les prediccions de l'algoritme (1 per inliers, -1 per outliers)\n",
    "labels = iso.predict(scaled_data)\n",
    "\n",
    "# Afegim les etiquetes al DataFrame original per marcar els outliers\n",
    "df_housing['outlier'] = labels\n",
    "\n",
    "# Filtrem el DataFrame per mostrar només els outliers\n",
    "outliers_df = df_housing[df_housing['outlier'] == -1]\n",
    "\n",
    "print(outliers_df) # Mostrem els outliers"
   ]
  },
  {
   "cell_type": "markdown",
   "id": "8748033c",
   "metadata": {},
   "source": [
    "Anàlisi dels resultats: <br>\n",
    "\n",
    "- CRIM: La taxa de criminalitat per capita varia significativament en aquestes observacions, amb un outlier notablement alt (45.74610).\n",
    "- ZN: Proporció de terreny residencial zonificat per lots de més de 25.000 peus quadrats. Per a la majoria dels outliers, aquest valor és 0.0, indicant que potser són zones d'alta densitat on no hi ha zones grans zonificades per residències.\n",
    "- INDUS: Proporció d'hectàrees de negocis no minoristes per ciutat. Alguns outliers estan en zones altament industrialitzades (18.10).\n",
    "- CHAS: Variable dummy de Charles River (1 si la tracta toca el riu; 0 en cas contrari). En aquestes observacions, alguns dels outliers són propietats que toquen el riu.\n",
    "- RM: Nombre mitjà d'habitacions per habitatge. Variacions en aquesta característica també poden influir en la classificació com a outlier.\n",
    "- AGE: Proporció d'unitats ocupades pels propietaris construïdes abans de 1940. Observem que alguns outliers tenen propietats molt antigues (82.6 a 100.0).\n",
    "- TAX: Taxa d'impostos a la propietat de valor total per \\$10,000. Alguns outliers tenen taxes d'impostos alts (666.0).\n",
    "- MEDV: Valor mitjà de les cases ocupades pels propietaris en $1000's. Hi ha una variabilitat aquí, amb algunes cases amb valors molt alts (50.0, que pot ser un valor capat per a la màxima mediana de preu de l'habitatge en aquest dataset)."
   ]
  },
  {
   "cell_type": "markdown",
   "id": "b32122a5",
   "metadata": {},
   "source": [
    "En vista d'aquests resultats,  com que tenim diverses variables amb un nombre elevat d'outliers i algunes de les variables no presenten una distribució normal i sí força esbiaixament, decidim aplicar un Robut Scaler, que no és tant sensible als outliers com el Standard Scaler."
   ]
  },
  {
   "cell_type": "code",
   "execution_count": 7,
   "id": "364219d2",
   "metadata": {},
   "outputs": [
    {
     "name": "stdout",
     "output_type": "stream",
     "text": [
      "       CRIM    ZN     INDUS  CHAS       NOX        RM       AGE       DIS  \\\n",
      "0 -0.069593  1.44 -0.571650   0.0  0.000000  0.496612 -0.250765  0.285777   \n",
      "1 -0.063755  0.00 -0.202943   0.0 -0.394286  0.287940  0.028542  0.569789   \n",
      "2 -0.063760  0.00 -0.202943   0.0 -0.394286  1.323171 -0.334353  0.569789   \n",
      "3 -0.062347  0.00 -0.581720   0.0 -0.457143  1.069783 -0.646279  0.924391   \n",
      "4 -0.052144  0.00 -0.581720   0.0 -0.457143  1.271680 -0.475025  0.924391   \n",
      "\n",
      "    RAD       TAX   PTRATIO         B     LSTAT  outlier  \n",
      "0 -0.20 -0.087855 -1.339286  0.261902 -0.637681      0.0  \n",
      "1 -0.15 -0.227390 -0.446429  0.261902 -0.221889      0.0  \n",
      "2 -0.15 -0.227390 -0.446429  0.066675 -0.732634      0.0  \n",
      "3 -0.10 -0.279070 -0.125000  0.153016 -0.841579      0.0  \n",
      "4 -0.10 -0.279070 -0.125000  0.261902 -0.602699      0.0  \n"
     ]
    }
   ],
   "source": [
    "from sklearn.preprocessing import RobustScaler\n",
    "\n",
    "# Instanciem l'objecte RobustScaler\n",
    "scaler = RobustScaler()\n",
    "\n",
    "# Seleccionem totes les variables independents, sense la variable objectiu 'MEDV'\n",
    "features = df_housing.drop('MEDV', axis=1)\n",
    "\n",
    "# Ajustem i transformem les dades (excepte la variable objectiu)\n",
    "scaled_features = scaler.fit_transform(features)\n",
    "\n",
    "# Convertim les característiques escalades de nou en un DataFrame per facilitar la manipulació i visualització\n",
    "df_housing_scaled = pd.DataFrame(scaled_features, index=features.index, columns=features.columns)\n",
    "\n",
    "# Observemn el dataframe amb les dades escalades\n",
    "print(df_housing_scaled.head())\n"
   ]
  },
  {
   "cell_type": "markdown",
   "id": "a81d0d85",
   "metadata": {},
   "source": [
    "A continuació crearem el Model de Regressió Lineal Múltiple i evaluarem els seus resultats amb MSE i R2."
   ]
  },
  {
   "cell_type": "code",
   "execution_count": 8,
   "id": "554faad6",
   "metadata": {},
   "outputs": [
    {
     "name": "stdout",
     "output_type": "stream",
     "text": [
      "Error Quadràtic Mitjà (MSE): 23.300514245551152\n",
      "Coeficient de Determinació (R^2): 0.6822676638049429\n",
      "Coeficients del model: [-1.10837081e-01  2.03017948e-02  4.03261870e-02  3.60019940e-01\n",
      " -1.73411601e+01  4.59732519e+00 -7.30359161e-03 -1.34974553e+00\n",
      "  2.54554311e-01 -1.11080817e-02 -9.44019798e-01  1.34054937e-02\n",
      " -4.62134713e-01 -7.29419325e+00]\n"
     ]
    }
   ],
   "source": [
    "from sklearn.model_selection import train_test_split\n",
    "from sklearn.linear_model import LinearRegression\n",
    "from sklearn.metrics import mean_squared_error, r2_score\n",
    "\n",
    "# Separem les característiques independents (X) i la variable dependent (y)\n",
    "X = df_housing.drop('MEDV', axis=1)  # Eliminem 'MEDV' per tenir només variables independents\n",
    "y = df_housing['MEDV']\n",
    "\n",
    "# Dividim les dades en conjunts d'entrenament i test\n",
    "X_train, X_test, y_train, y_test = train_test_split(X, y, test_size=0.2, random_state=42)\n",
    "\n",
    "# Creem l'objecte de regressió lineal\n",
    "model = LinearRegression()\n",
    "\n",
    "# Entrenem el model utilitzant les dades d'entrenament\n",
    "model.fit(X_train, y_train)\n",
    "\n",
    "# Fem prediccions utilitzant les dades de test\n",
    "y_pred = model.predict(X_test)\n",
    "\n",
    "# Avaluem el model\n",
    "mse = mean_squared_error(y_test, y_pred)\n",
    "r2 = r2_score(y_test, y_pred)\n",
    "\n",
    "print(f'Error Quadràtic Mitjà (MSE): {mse}')\n",
    "print(f'Coeficient de Determinació (R^2): {r2}')\n",
    "\n",
    "# Podem veure els coeficients del model per entendre la importància de cada variable\n",
    "print('Coeficients del model:', model.coef_)\n"
   ]
  },
  {
   "cell_type": "markdown",
   "id": "f703b4db",
   "metadata": {},
   "source": [
    "Ara aplicarem un model Random Forest:"
   ]
  },
  {
   "cell_type": "code",
   "execution_count": 9,
   "id": "23d70daa",
   "metadata": {},
   "outputs": [
    {
     "name": "stdout",
     "output_type": "stream",
     "text": [
      "MSE: 8.602580392156865\n",
      "R2: 0.8826928051243473\n"
     ]
    }
   ],
   "source": [
    "# Importem les llibreries\n",
    "from sklearn.model_selection import train_test_split\n",
    "from sklearn.ensemble import RandomForestRegressor\n",
    "from sklearn.metrics import mean_squared_error\n",
    "from math import sqrt\n",
    "\n",
    "# Separem les característiques independents (X) i la variable dependent (y)\n",
    "X = df_housing.drop('MEDV', axis=1)  # Asumim que 'MEDV' no està escalada\n",
    "y = df_housing['MEDV']\n",
    "\n",
    "# Dividim les dades en conjunts d'entrenament i test\n",
    "X_train, X_test, y_train, y_test = train_test_split(X, y, test_size=0.2, random_state=42)\n",
    "\n",
    "# Creem l'objecte Random Forest Regressor\n",
    "rf = RandomForestRegressor(n_estimators=100, random_state=42)\n",
    "\n",
    "# Entrenem el model utilitzant les dades d'entrenament\n",
    "rf.fit(X_train, y_train)\n",
    "\n",
    "# Fem prediccions utilitzant les dades de test\n",
    "y_pred = rf.predict(X_test)\n",
    "\n",
    "# Calculem l'error quadràtic mitjà (MSE) i el coeficient de determinació (R2)\n",
    "mse = mean_squared_error(y_test, y_pred)\n",
    "r2_score = rf.score(X_test, y_test)\n",
    "\n",
    "print(f\"MSE: {mse}\")\n",
    "print(f\"R2: {r2_score}\")\n"
   ]
  },
  {
   "cell_type": "markdown",
   "id": "eb324a72",
   "metadata": {},
   "source": [
    "Ara aplicarem un model Gradient Boosting:"
   ]
  },
  {
   "cell_type": "code",
   "execution_count": 10,
   "id": "ad706446",
   "metadata": {},
   "outputs": [
    {
     "name": "stdout",
     "output_type": "stream",
     "text": [
      "MSE: 6.863643755263377\n",
      "R2: 0.9064054319922645\n"
     ]
    }
   ],
   "source": [
    "from sklearn.model_selection import train_test_split\n",
    "from sklearn.ensemble import GradientBoostingRegressor\n",
    "from sklearn.metrics import mean_squared_error, r2_score\n",
    "from math import sqrt\n",
    "\n",
    "# Separem les característiques independents (X) i la variable dependent (y)\n",
    "X = df_housing.drop('MEDV', axis=1)  # Asumim que 'MEDV' no està escalada\n",
    "y = df_housing['MEDV']\n",
    "\n",
    "# Dividim les dades en conjunts d'entrenament i test\n",
    "X_train, X_test, y_train, y_test = train_test_split(X, y, test_size=0.2, random_state=42)\n",
    "\n",
    "# Creem l'objecte Gradient Boosting Regressor\n",
    "# Pots ajustar els paràmetres com n_estimators, learning_rate, i max_depth, entre d'altres\n",
    "gb = GradientBoostingRegressor(n_estimators=100, learning_rate=0.1, max_depth=3, random_state=42)\n",
    "\n",
    "# Entrenem el model utilitzant les dades d'entrenament\n",
    "gb.fit(X_train, y_train)\n",
    "\n",
    "# Fem prediccions utilitzant les dades de test\n",
    "y_pred = gb.predict(X_test)\n",
    "\n",
    "# Calculem l'error quadràtic mitjà (MSE) i el coeficient de determinació (R2)\n",
    "mse = mean_squared_error(y_test, y_pred)\n",
    "r2 = r2_score(y_test, y_pred)\n",
    "\n",
    "print(f\"MSE: {mse}\")\n",
    "print(f\"R2: {r2}\")\n"
   ]
  },
  {
   "cell_type": "markdown",
   "id": "cedcf6fc",
   "metadata": {},
   "source": [
    "# Exercici 2"
   ]
  },
  {
   "cell_type": "markdown",
   "id": "03063223",
   "metadata": {},
   "source": [
    "Compara’ls en base al MSE i al R2."
   ]
  },
  {
   "cell_type": "markdown",
   "id": "8a5dd901",
   "metadata": {},
   "source": [
    "Tal i com hem vist anteriorment, hem calculat els valors del coeficient de determinació (R2) i l'error quadràtic mitjà (MSE) pe tal de comparar els resultats dels tres models que hem aplicat:  Regressió lineal múltiple, Random Forest i Gradient Boosting. \n",
    "\n",
    "El coeficient R2 mesura la proporció de la variància de la variable dependent que és previsible a partir de les variables independents. Un valor de R2 més alt indica un millor ajust del model. El MSE mesura la qualitat d'un estimador, és a dir, quan més petit és el MSE, millors són les prediccions del model.\n",
    "\n",
    "- Regressió lineal múltiple: R2 = 0.6823 i MSE = 23.30\n",
    "\n",
    "- Random Forest: R2 = 0.8827 i MSE = 8.6026\n",
    "\n",
    "- Gradient Boosting: R2 = 0.9064 i MSE = 6.8636\n",
    "\n",
    "Basats en aquesta resultats, podem veure que el model de Gradient Boosting supera tant el Random Forest com la regressió lineal múltiple. El Gradient Boosting té el coeficient R2 més alt, indicant que fa una millor feina capturant la variància dels preus de les vivendes (MEDV). A més, té el MSE més baix, el que suggereix que les seves prediccions estan més a prop dels valors reals.\n",
    "\n",
    "El Random Forest també ofereix bons resultats, superant significativament la regressió lineal múltiple, la qual té el rendiment més baix dels tres models segons aquestes mètriques. Això podria ser degut a la naturalesa no lineal i complexa de les dades, que la regressió lineal múltiple no pot capturar tant eficaçment com els models basats en arbres."
   ]
  },
  {
   "cell_type": "markdown",
   "id": "deb85a0b",
   "metadata": {},
   "source": [
    "# Exercici 3"
   ]
  },
  {
   "cell_type": "markdown",
   "id": "4d3c0772",
   "metadata": {},
   "source": [
    "Entrena’ls utilitzant els diferents paràmetres que admeten per intentar millorar-ne la predicció."
   ]
  },
  {
   "cell_type": "markdown",
   "id": "bf16a276",
   "metadata": {},
   "source": [
    "Per a la regressió lineal múltiple, no hi ha molts paràmetres per ajustar, ja que és un model relativament simple. No obstant això, es podriem aplicar transformacions logarítmiques o de potència per a les variables independents que no tenen una relació lineal dependent."
   ]
  },
  {
   "cell_type": "markdown",
   "id": "737630c0",
   "metadata": {},
   "source": [
    "Pel que fa al Random Forest, hi ha diversos hiperparàmetres que podem ajustar:\n",
    "\n",
    "- n_estimators: Nombre d'arbres en el bosc.\n",
    "- max_features: El nombre màxim de característiques considerades per dividir un node.\n",
    "- max_depth: Profunditat màxima de l'arbre.\n",
    "- min_samples_split: El nombre mínim de mostres requerides per dividir un node intern.\n",
    "- min_samples_leaf: El nombre mínim de mostres requerides en un node fulla.\n",
    "- bootstrap: Mètode per a les mostres de bootstrap quan es construeixen els arbres."
   ]
  },
  {
   "cell_type": "code",
   "execution_count": 11,
   "id": "409640ee",
   "metadata": {},
   "outputs": [
    {
     "name": "stdout",
     "output_type": "stream",
     "text": [
      "MSE inicial: 12.377189980392139\n",
      "Millors paràmetres (GridSearchCV): {'max_depth': 8, 'max_features': 'sqrt', 'min_samples_leaf': 1, 'min_samples_split': 2, 'n_estimators': 200}\n",
      "Millors paràmetres (RandomizedSearchCV): {'max_depth': 9, 'max_features': 'log2', 'min_samples_leaf': 1, 'min_samples_split': 2, 'n_estimators': 476}\n",
      "MSE amb hiperparàmetres ajustats: 11.487434801540934\n"
     ]
    }
   ],
   "source": [
    "from sklearn.ensemble import RandomForestRegressor\n",
    "from sklearn.metrics import mean_squared_error\n",
    "from sklearn.model_selection import GridSearchCV, RandomizedSearchCV\n",
    "from scipy.stats import randint as sp_randint\n",
    "\n",
    "# Instanciem el Model amb els Hiperparàmetres Inicials\n",
    "rf = RandomForestRegressor(n_estimators=100, \n",
    "                           max_features='sqrt',  # Canviat de 'auto' a 'sqrt'\n",
    "                           max_depth=None, \n",
    "                           min_samples_split=2, \n",
    "                           min_samples_leaf=1, \n",
    "                           bootstrap=True, \n",
    "                           random_state=42)\n",
    "\n",
    "# Ajustem el model al conjunt d'entrenament\n",
    "rf.fit(X_train, y_train)\n",
    "\n",
    "# Avaluem el model\n",
    "predictions = rf.predict(X_test)\n",
    "mse = mean_squared_error(y_test, predictions)\n",
    "print(f\"MSE inicial: {mse}\")\n",
    "\n",
    "# Ajustem els hiperparàmetres\n",
    "\n",
    "# Utilitzem el GridSearchCV\n",
    "param_grid = {\n",
    "    'n_estimators': [100, 200, 300],\n",
    "    'max_features': ['sqrt', 'log2'],  # Eliminat 'auto'\n",
    "    'max_depth': [4, 6, 8, 10],\n",
    "    'min_samples_split': [2, 5, 10],\n",
    "    'min_samples_leaf': [1, 2, 4]\n",
    "}\n",
    "\n",
    "CV_rfr = GridSearchCV(estimator=rf, param_grid=param_grid, cv=5)\n",
    "CV_rfr.fit(X_train, y_train)\n",
    "print(f\"Millors paràmetres (GridSearchCV): {CV_rfr.best_params_}\")\n",
    "\n",
    "# I ara utilitzem el RandomizedSearchCV\n",
    "param_dist = {\n",
    "    'n_estimators': sp_randint(100, 500),\n",
    "    'max_features': ['sqrt', 'log2'],  # Eliminat 'auto'\n",
    "    'max_depth': sp_randint(3, 20),\n",
    "    'min_samples_split': sp_randint(2, 11),\n",
    "    'min_samples_leaf': sp_randint(1, 11)\n",
    "}\n",
    "\n",
    "random_search = RandomizedSearchCV(rf, param_distributions=param_dist, n_iter=100, cv=5, random_state=42)\n",
    "random_search.fit(X_train, y_train)\n",
    "print(f\"Millors paràmetres (RandomizedSearchCV): {random_search.best_params_}\")\n",
    "\n",
    "# Avaluem el model ajustat\n",
    "best_rf = random_search.best_estimator_\n",
    "predictions_best = best_rf.predict(X_test)\n",
    "mse_best = mean_squared_error(y_test, predictions_best)\n",
    "print(f\"MSE amb hiperparàmetres ajustats: {mse_best}\")\n"
   ]
  },
  {
   "cell_type": "markdown",
   "id": "4333959c",
   "metadata": {},
   "source": [
    "Amb l'ajustament dels hiperparàmetres, el MSE ha millorat de 12.3772 a 11.4874, el que indica que els hiperparàmetres optimitzats han ajudat a millorar el rendiment del model de Random Forest.\n",
    "\n",
    "GridSearchCV ha trobat que una profunditat màxima (max_depth) de 8, max_features com 'sqrt', un mínim de mostres per node fulla (min_samples_leaf) de 1, un mínim de mostres per dividir un node (min_samples_split) de 2, i 200 arbres (n_estimators) com la millor combinació per al model.\n",
    "\n",
    "RandomizedSearchCV ha proposat una configuració lleugerament diferent amb una profunditat màxima de 9, max_features com 'log2', i un nombre significativament major d'arbres, 476.\n",
    "\n",
    "El fet que el MSE amb els paràmetres ajustats mitjançant RandomizedSearchCV sigui més baix indica que els hiperparàmetres trobats per aquest mètode d'optimització són més eficaços per al nostre conjunt de dades."
   ]
  },
  {
   "cell_type": "markdown",
   "id": "02848e8e",
   "metadata": {},
   "source": [
    "Ara ajustarem els hiperparàmetres del Gradient Boosting:"
   ]
  },
  {
   "cell_type": "code",
   "execution_count": 12,
   "id": "280dd892",
   "metadata": {},
   "outputs": [
    {
     "name": "stdout",
     "output_type": "stream",
     "text": [
      "Millors paràmetres (GridSearchCV): {'learning_rate': 0.05, 'max_depth': 3, 'min_samples_leaf': 2, 'min_samples_split': 2, 'n_estimators': 200, 'subsample': 0.8}\n",
      "Millors paràmetres (RandomizedSearchCV): {'learning_rate': 0.1, 'max_depth': 2, 'min_samples_leaf': 7, 'min_samples_split': 8, 'n_estimators': 246, 'subsample': 0.8}\n",
      "MSE amb hiperparàmetres ajustats: 8.83265073478316\n"
     ]
    }
   ],
   "source": [
    "from sklearn.ensemble import GradientBoostingRegressor\n",
    "from sklearn.model_selection import GridSearchCV, RandomizedSearchCV\n",
    "from scipy.stats import randint as sp_randint\n",
    "\n",
    "# Instanciem el model amb els hiperparàmetres inicials\n",
    "gbm = GradientBoostingRegressor(random_state=42)\n",
    "\n",
    "# Ajustamem els hiperparàmetres amb GridSearchCV\n",
    "param_grid_gbm = {\n",
    "    'n_estimators': [50, 100, 200],\n",
    "    'learning_rate': [0.01, 0.05, 0.1],\n",
    "    'max_depth': [3, 4, 5],\n",
    "    'min_samples_split': [2, 4, 6],\n",
    "    'min_samples_leaf': [1, 2, 4],\n",
    "    'subsample': [0.8, 0.9, 1.0]\n",
    "}\n",
    "\n",
    "CV_gbm = GridSearchCV(estimator=gbm, param_grid=param_grid_gbm, cv=5)\n",
    "CV_gbm.fit(X_train, y_train)\n",
    "print(f\"Millors paràmetres (GridSearchCV): {CV_gbm.best_params_}\")\n",
    "\n",
    "# O utilitzant RandomizedSearchCV per a una cerca més ràpida\n",
    "param_dist_gbm = {\n",
    "    'n_estimators': sp_randint(30, 250),\n",
    "    'learning_rate': [0.001, 0.01, 0.05, 0.1],\n",
    "    'max_depth': sp_randint(2, 10),\n",
    "    'min_samples_split': sp_randint(2, 11),\n",
    "    'min_samples_leaf': sp_randint(1, 11),\n",
    "    'subsample': [0.6, 0.7, 0.8, 0.9, 1.0]\n",
    "}\n",
    "\n",
    "random_search_gbm = RandomizedSearchCV(gbm, param_distributions=param_dist_gbm, n_iter=100, cv=5, random_state=42)\n",
    "random_search_gbm.fit(X_train, y_train)\n",
    "print(f\"Millors paràmetres (RandomizedSearchCV): {random_search_gbm.best_params_}\")\n",
    "\n",
    "# Avaluem el model ajustat\n",
    "best_gbm = random_search_gbm.best_estimator_\n",
    "predictions_best_gbm = best_gbm.predict(X_test)\n",
    "mse_best_gbm = mean_squared_error(y_test, predictions_best_gbm)\n",
    "print(f\"MSE amb hiperparàmetres ajustats: {mse_best_gbm}\")\n"
   ]
  },
  {
   "cell_type": "markdown",
   "id": "baedf6e7",
   "metadata": {},
   "source": [
    "Per tant, podem considerar considerar el Gradient Boosting (amb els hiperparàmetres ajustats) com el millor model per les nostres dades, si ens basem en el MSE (8.83 en el Gradient Boosting i 11.49 en el Random Forest)."
   ]
  },
  {
   "cell_type": "markdown",
   "id": "14be3367",
   "metadata": {},
   "source": [
    "# Exercici 4"
   ]
  },
  {
   "cell_type": "markdown",
   "id": "7d0a6933",
   "metadata": {},
   "source": [
    "Compara el seu rendiment emprant l’aproximació traint/test o emprant totes les dades (validació interna)."
   ]
  },
  {
   "cell_type": "markdown",
   "id": "05f59d23",
   "metadata": {},
   "source": [
    "Com que ja hem utilitzat l'aproximació train/test, ara utilitzarem la validació interna, per tal de comparar el rendiment del model. Tot i això, hem de tenir en compte que utilitzar totes les dades no és recomanable perquè podem sobreajustar el model (overfitting), de manera que tindrà molt bon rendiment amb les dades d'entrenament, però no serà bo amb noves dades que no ha vist anteriorment. La validació interna també pot fer que el model no sigui prou robust, ja que no podrem avaluar com varia el seu rendiment amb diferents subconjunts de dades. <br>\n",
    "<br>\n",
    "Utilitzarem els hiperparàmetres òptims que hem obtingut en el train/test i així farem la comparació del rendiment utilitzant la validació interna. En primer lloc per al Random Forest:"
   ]
  },
  {
   "cell_type": "code",
   "execution_count": 15,
   "id": "dfad90a3",
   "metadata": {},
   "outputs": [
    {
     "name": "stdout",
     "output_type": "stream",
     "text": [
      "MSE amb validació interna per a Random Forest: 3.0368088040204797\n",
      "R2 amb validació interna per a Random Forest: 0.9640271882216158\n"
     ]
    }
   ],
   "source": [
    "from sklearn.ensemble import RandomForestRegressor\n",
    "from sklearn.metrics import mean_squared_error, r2_score\n",
    "\n",
    "# Millors hiperparàmetres per a Random Forest\n",
    "best_params_rf = {\n",
    "    'max_depth': 8,\n",
    "    'max_features': 'sqrt',\n",
    "    'min_samples_leaf': 1,\n",
    "    'min_samples_split': 2,\n",
    "    'n_estimators': 200\n",
    "}\n",
    "\n",
    "# Creem el model de Random Forest amb els millors hiperparàmetres\n",
    "rf_model = RandomForestRegressor(\n",
    "    n_estimators=best_params_rf['n_estimators'],\n",
    "    max_depth=best_params_rf['max_depth'],\n",
    "    max_features=best_params_rf['max_features'],\n",
    "    min_samples_split=best_params_rf['min_samples_split'],\n",
    "    min_samples_leaf=best_params_rf['min_samples_leaf'],\n",
    "    random_state=42\n",
    ")\n",
    "\n",
    "# Entrenem el model amb totes les dades\n",
    "rf_model.fit(X, y)\n",
    "\n",
    "# Fem prediccions amb les mateixes dades per a validació interna\n",
    "y_pred_rf = rf_model.predict(X)\n",
    "\n",
    "# Calculem l'MSE i el R2\n",
    "mse_rf = mean_squared_error(y, y_pred_rf)\n",
    "r2_rf = r2_score(y, y_pred_rf)\n",
    "\n",
    "print(f'MSE amb validació interna per a Random Forest: {mse_rf}')\n",
    "print(f'R2 amb validació interna per a Random Forest: {r2_rf}')\n"
   ]
  },
  {
   "cell_type": "markdown",
   "id": "8575d8dc",
   "metadata": {},
   "source": [
    "I ara pel model Gradient Boosting:"
   ]
  },
  {
   "cell_type": "code",
   "execution_count": 16,
   "id": "9c314add",
   "metadata": {},
   "outputs": [
    {
     "name": "stdout",
     "output_type": "stream",
     "text": [
      "MSE amb validació interna per a Gradient Boosting: 2.1161960209668984\n",
      "R2 amb validació interna per a Gradient Boosting: 0.9749323957940242\n"
     ]
    }
   ],
   "source": [
    "from sklearn.ensemble import GradientBoostingRegressor\n",
    "\n",
    "# Millors hiperparàmetres per al Gradient Boosting\n",
    "best_params_gb = {\n",
    "    'learning_rate': 0.05,\n",
    "    'max_depth': 3,\n",
    "    'min_samples_leaf': 2,\n",
    "    'min_samples_split': 2,\n",
    "    'n_estimators': 200,\n",
    "    'subsample': 0.8\n",
    "}\n",
    "\n",
    "# Creem el model de Gradient Boosting amb els millors hiperparàmetres\n",
    "gb_model = GradientBoostingRegressor(\n",
    "    n_estimators=best_params_gb['n_estimators'],\n",
    "    max_depth=best_params_gb['max_depth'],\n",
    "    learning_rate=best_params_gb['learning_rate'],\n",
    "    min_samples_split=best_params_gb['min_samples_split'],\n",
    "    min_samples_leaf=best_params_gb['min_samples_leaf'],\n",
    "    subsample=best_params_gb['subsample'],\n",
    "    random_state=42\n",
    ")\n",
    "\n",
    "# Entrenem el model amb totes les dades\n",
    "gb_model.fit(X, y)\n",
    "\n",
    "# Fem prediccions amb les mateixes dades per a la validació interna\n",
    "y_pred_gb = gb_model.predict(X)\n",
    "\n",
    "# Calculem l'MSE i el R2\n",
    "mse_gb = mean_squared_error(y, y_pred_gb)\n",
    "r2_gb = r2_score(y, y_pred_gb)\n",
    "\n",
    "print(f'MSE amb validació interna per a Gradient Boosting: {mse_gb}')\n",
    "print(f'R2 amb validació interna per a Gradient Boosting: {r2_gb}')\n"
   ]
  },
  {
   "cell_type": "markdown",
   "id": "7715088d",
   "metadata": {},
   "source": [
    "Els resultats de la validació interna que hem obtingut per al Random Forest i el Gradient Boosting suggereixen un rendiment excepcional amb valors molt baixos de MSE i molt alts d'R2. Malgrat tot, aquesta aparent alta eficàcia podria ser enganyosa a causa del risc de overfitting, ja que els models podrien haver après les dades d'entrenament incloent anomalies o soroll que no generalitzarien bé amb dades noves."
   ]
  },
  {
   "cell_type": "markdown",
   "id": "9d037721",
   "metadata": {},
   "source": [
    "# Exercici 5"
   ]
  },
  {
   "cell_type": "markdown",
   "id": "595c7a03",
   "metadata": {},
   "source": [
    "No facis servir la variable del nombre d'habitacions (RM) a l’hora de fer prediccions."
   ]
  },
  {
   "cell_type": "markdown",
   "id": "aaff7a33",
   "metadata": {},
   "source": [
    "En primer lloc eliminarem la variable RM (nombre d'habitacions) del nostre dataset i després tornarem a dividir les dades en train/test."
   ]
  },
  {
   "cell_type": "code",
   "execution_count": 18,
   "id": "bc0db810",
   "metadata": {},
   "outputs": [],
   "source": [
    "from sklearn.model_selection import train_test_split\n",
    "\n",
    "# Separem les característiques independents (X) sense la columna 'RM' i la variable dependent (y)\n",
    "X = df_housing.drop(['MEDV', 'RM'], axis=1)\n",
    "y = df_housing['MEDV']\n",
    "\n",
    "# Dividim les dades en conjunts d'entrenament i de test\n",
    "X_train, X_test, y_train, y_test = train_test_split(X, y, test_size=0.2, random_state=42)\n"
   ]
  },
  {
   "cell_type": "markdown",
   "id": "119c3858",
   "metadata": {},
   "source": [
    "Ara tornem a aplicar el model Random Forest:"
   ]
  },
  {
   "cell_type": "code",
   "execution_count": 19,
   "id": "ef6587e5",
   "metadata": {},
   "outputs": [
    {
     "name": "stdout",
     "output_type": "stream",
     "text": [
      "Random Forest MSE: 16.963544782959584\n"
     ]
    }
   ],
   "source": [
    "from sklearn.ensemble import RandomForestRegressor\n",
    "from sklearn.metrics import mean_squared_error\n",
    "\n",
    "# Definim els millors hiperparàmetres trobats per Random Forest\n",
    "rf_best_params = {\n",
    "    'n_estimators': 200,\n",
    "    'max_features': 'sqrt',\n",
    "    'max_depth': 8,\n",
    "    'min_samples_split': 2,\n",
    "    'min_samples_leaf': 1\n",
    "}\n",
    "\n",
    "# Creem el model de Random Forest amb els millors hiperparàmetres\n",
    "rf_model = RandomForestRegressor(**rf_best_params, random_state=42)\n",
    "\n",
    "# Entrenem el model de Random Forest\n",
    "rf_model.fit(X_train, y_train)\n",
    "\n",
    "# Fem prediccions amb el model de Random Forest\n",
    "rf_predictions = rf_model.predict(X_test)\n",
    "\n",
    "# Avaluem el model de Random Forest\n",
    "rf_mse = mean_squared_error(y_test, rf_predictions)\n",
    "print(f'Random Forest MSE: {rf_mse}')\n"
   ]
  },
  {
   "cell_type": "markdown",
   "id": "a50fa377",
   "metadata": {},
   "source": [
    "I ara el model Gradient Boosting:"
   ]
  },
  {
   "cell_type": "code",
   "execution_count": 20,
   "id": "0602bdd8",
   "metadata": {},
   "outputs": [
    {
     "name": "stdout",
     "output_type": "stream",
     "text": [
      "Gradient Boosting MSE: 14.499206622474698\n"
     ]
    }
   ],
   "source": [
    "from sklearn.ensemble import GradientBoostingRegressor\n",
    "\n",
    "# Definim els millors hiperparàmetres trobats per Gradient Boosting\n",
    "gb_best_params = {\n",
    "    'n_estimators': 200,\n",
    "    'max_depth': 3,\n",
    "    'min_samples_split': 2,\n",
    "    'min_samples_leaf': 2,\n",
    "    'learning_rate': 0.05,\n",
    "    'subsample': 0.8\n",
    "}\n",
    "\n",
    "# Creem el model de Gradient Boosting\n",
    "gb_model = GradientBoostingRegressor(**gb_best_params, random_state=42)\n",
    "\n",
    "# Entrenem el model de Gradient Boosting\n",
    "gb_model.fit(X_train, y_train)\n",
    "\n",
    "# Fem prediccions amb el model de Gradient Boosting\n",
    "gb_predictions = gb_model.predict(X_test)\n",
    "\n",
    "# Avaluem el model de Gradient Boosting\n",
    "gb_mse = mean_squared_error(y_test, gb_predictions)\n",
    "print(f'Gradient Boosting MSE: {gb_mse}')\n"
   ]
  },
  {
   "cell_type": "markdown",
   "id": "5a657265",
   "metadata": {},
   "source": [
    "Per comparar, els resultats que havíem obtingut anteriorment sense eliminar la variable RM (nombre d'habitacions) eren: \n",
    "\n",
    "- Random Forest MSE amb hiperparàmetres ajustats: 11.487434801540934\n",
    "- Gradient Boosting MSE amb hiperparàmetres ajustats: 8.83265073478316\n",
    "\n",
    "Després d'eliminar la variable RM, els resultats són:\n",
    "\n",
    "- Random Forest MSE sense RM: 16.963544782959584\n",
    "- Gradient Boosting MSE sense RM: 14.499206622474698\n",
    "\n",
    "Podem veure que en ambdós casos, el rendiment del model ha empitjorat (MSE ha augmentat) quan s'ha eliminat la variable RM del conjunt de dades. Això indica que la variable RM és una característica important per a la predicció del valor mitjà de les cases (MEDV) en aquest conjunt de dades. La pèrdua d'aquesta informació fa que els models siguin menys precisos en les seves prediccions. Així doncs, podem considerar la variable RM com un bon indicador del valor de l'habitatge en el mercat immobiliari. No tenir en compte aquesta variable pot reduït significativament la capacitat del model en captar la variança en el valor dels habitatges."
   ]
  }
 ],
 "metadata": {
  "kernelspec": {
   "display_name": "Python 3 (ipykernel)",
   "language": "python",
   "name": "python3"
  },
  "language_info": {
   "codemirror_mode": {
    "name": "ipython",
    "version": 3
   },
   "file_extension": ".py",
   "mimetype": "text/x-python",
   "name": "python",
   "nbconvert_exporter": "python",
   "pygments_lexer": "ipython3",
   "version": "3.11.1"
  }
 },
 "nbformat": 4,
 "nbformat_minor": 5
}
